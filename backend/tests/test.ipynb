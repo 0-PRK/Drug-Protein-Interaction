{
 "cells": [
  {
   "cell_type": "code",
   "execution_count": null,
   "metadata": {},
   "outputs": [],
   "source": [
    "from rdkit import Chem\n",
    "from rdkit.Chem import AllChem\n",
    "import os\n",
    "\n",
    "def smiles_to_pdb(smiles: str, output_pdb: str):\n",
    "    # Convert SMILES string to RDKit molecule\n",
    "    mol = Chem.MolFromSmiles(smiles)\n",
    "    \n",
    "    if mol is None:\n",
    "        raise ValueError(\"Invalid SMILES string\")\n",
    "    \n",
    "    # Add hydrogens to the molecule\n",
    "    mol = Chem.AddHs(mol)\n",
    "    \n",
    "    # Generate 3D coordinates for the molecule\n",
    "    AllChem.EmbedMolecule(mol, randomSeed=42)\n",
    "    AllChem.MMFFOptimizeMolecule(mol)  # Minimize the geometry using MMFF\n",
    "    \n",
    "    # Save the molecule as a PDB file\n",
    "    with open(output_pdb, 'w') as f:\n",
    "        f.write(Chem.MolToPDBBlock(mol))  # Write the PDB block to the file\n",
    "\n",
    "# Example SMILES string (Aspirin)\n",
    "drug_smiles = \"CC(=O)OC1=CC=CC=C1C(=O)O\"\n",
    "\n",
    "# Output PDB file path\n",
    "output_pdb = \"drug.pdb\"\n",
    "\n",
    "# Convert SMILES to PDB\n",
    "smiles_to_pdb(drug_smiles, output_pdb)\n",
    "\n",
    "print(f\"PDB file saved at: {output_pdb}\")\n"
   ]
  }
 ],
 "metadata": {
  "kernelspec": {
   "display_name": "watson24",
   "language": "python",
   "name": "python3"
  },
  "language_info": {
   "name": "python",
   "version": "3.11.10"
  }
 },
 "nbformat": 4,
 "nbformat_minor": 2
}
