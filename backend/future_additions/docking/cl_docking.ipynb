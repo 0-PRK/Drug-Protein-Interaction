{
 "cells": [
  {
   "cell_type": "code",
   "execution_count": 19,
   "metadata": {},
   "outputs": [],
   "source": [
    "import os\n",
    "import numpy as np\n",
    "from rdkit import Chem\n",
    "from rdkit.Chem import AllChem\n",
    "from Bio import SeqIO\n",
    "from Bio.PDB import *\n",
    "import py3Dmol\n",
    "# import MDAnalysis as mda\n",
    "from vina import Vina\n",
    "import requests\n",
    "import xml.etree.ElementTree as ET"
   ]
  },
  {
   "cell_type": "code",
   "execution_count": 20,
   "metadata": {},
   "outputs": [],
   "source": [
    "temp_drugpdb = \"temp_drug.pdb\"\n",
    "temp_protpdb = \"temp_prot.pdb\"\n",
    "temp_drugpdbqt = \"temp_drug.pdbqt\"\n",
    "temp_protpdbqt = \"temp_prot.pdbqt\"\n",
    "docking_output = \"docking_output.pdbqt\""
   ]
  },
  {
   "cell_type": "code",
   "execution_count": 21,
   "metadata": {},
   "outputs": [],
   "source": [
    "def prepare_ligand(smiles):\n",
    "    \"\"\"\n",
    "    Convert SMILES to 3D structure and prepare for docking\n",
    "    \"\"\"\n",
    "    # # Create RDKit molecule from SMILES\n",
    "    # mol = Chem.MolFromSmiles(smiles)\n",
    "    # mol = Chem.AddHs(mol)\n",
    "    \n",
    "    # # Generate 3D conformation\n",
    "    # AllChem.EmbedMolecule(mol, randomSeed=42)\n",
    "    # AllChem.MMFFOptimizeMolecule(mol)\n",
    "    \n",
    "    # # Save as PDB file\n",
    "    # writer = Chem.PDBWriter(temp_drugpdb)\n",
    "    # writer.write(mol)\n",
    "    # writer.close()\n",
    "\n",
    "    # os.system(f\"obabel {temp_drugpdb} -O {temp_drugpdbqt} -xh -xr\")\n",
    "\n",
    "    conversion_result = os.system(f\"obabel -:'{smiles}' -O {temp_drugpdbqt} -xr --gen3d --addhydrogens -p -xh -xn\")\n",
    "    if conversion_result != 0:\n",
    "            raise RuntimeError(f\"Error converting drug PDB to PDBQT. Command failed.\")\n",
    "    \n",
    "    return temp_drugpdbqt\n",
    "\n",
    "def prepare_protein(uniprot_id):\n",
    "    \"\"\"\n",
    "        Check if a UniProt ID exists in the AlphaFold database and fetch the PDB file if available.\n",
    "    \"\"\"\n",
    "    print(\"Checking in AlphaFold database:....\")\n",
    "    # Strip version suffix (e.g., \".1\") if present\n",
    "    clean_uniprot_id = uniprot_id.split('.')[0]\n",
    "\n",
    "    alphafold_url = f\"https://alphafold.ebi.ac.uk/files/AF-{clean_uniprot_id}-F1-model_v4.pdb\"\n",
    "    response = requests.get(alphafold_url)\n",
    "        \n",
    "    if response.status_code == 200:\n",
    "        with open(temp_protpdb,\"w\") as f:\n",
    "            f.write(response.text)\n",
    "        os.system(f\"obabel {temp_protpdb} -O {temp_protpdbqt} -xh -xr\")\n",
    "        # clean_pdb(temp_protpdb)\n",
    "        return temp_protpdbqt\n",
    "    else:\n",
    "        \"\"\"Fetch PDB IDs associated with a UniProt ID using the UniProt API.\"\"\"\n",
    "        url = f\"https://www.uniprot.org/uniprot/{uniprot_id}.xml\"\n",
    "        response = requests.get(url)\n",
    "        if response.status_code != 200:\n",
    "            raise Exception(f\"Error fetching UniProt entry for {uniprot_id}\")\n",
    "    \n",
    "        # Parse the XML response\n",
    "        root = ET.fromstring(response.content)\n",
    "        pdb_ids = []\n",
    "        # Iterate through cross-references to find PDB entries\n",
    "        for cross_ref in root.findall(\".//{http://uniprot.org/uniprot}dbReference\"):\n",
    "            if cross_ref.attrib.get('type') == 'PDB':\n",
    "                pdb_ids.append(cross_ref.attrib.get('id'))\n",
    "        \n",
    "        if not pdb_ids:\n",
    "            print(f\"No PDB IDs found for UniProt ID {uniprot_id}.\")\n",
    "            raise Exception(f\"No PDB IDs found for UniProt ID {uniprot_id}.\")\n",
    "    \n",
    "        pdb_id = pdb_ids[0]\n",
    "    \n",
    "        \"\"\"Fetch the PDB file content from the PDB database.\"\"\"\n",
    "        url = f\"https://files.rcsb.org/download/{pdb_id}.pdb\"\n",
    "        response = requests.get(url)\n",
    "        if response.status_code == 200:\n",
    "            with open(temp_protpdb,\"w\") as f:\n",
    "                f.write(response.text)\n",
    "            os.system(f\"obabel {temp_protpdb} -O {temp_protpdbqt} -xh -xr\")\n",
    "            # clean_pdb(temp_protpdb)\n",
    "            return temp_protpdbqt\n",
    "        else:\n",
    "            raise Exception(f\"Error fetching PDB file for {pdb_id}\")"
   ]
  },
  {
   "cell_type": "code",
   "execution_count": 22,
   "metadata": {},
   "outputs": [],
   "source": [
    "def run_docking(protein_file, ligand_file, center, box_size):\n",
    "    \"\"\"\n",
    "    Perform molecular docking using AutoDock Vina\n",
    "    \"\"\"\n",
    "    v = Vina()\n",
    "    \n",
    "    # Prepare receptor\n",
    "    v.set_receptor(protein_file)\n",
    "    \n",
    "    # Set docking box\n",
    "    v.compute_vina_maps(center=center, box_size=box_size)\n",
    "    \n",
    "    # Dock ligand\n",
    "    v.set_ligand_from_file(ligand_file)\n",
    "\n",
    "    v.dock()\n",
    "    \n",
    "    # Save results\n",
    "    v.write_poses(\"docked_poses.pdbqt\", n_poses=1)\n",
    "    \n",
    "    return \"docked_poses.pdbqt\""
   ]
  },
  {
   "cell_type": "code",
   "execution_count": 23,
   "metadata": {},
   "outputs": [],
   "source": [
    "def visualize_docking(protein_file, docked_poses_file):\n",
    "    \"\"\"\n",
    "    Create interactive 3D visualization of docking results\n",
    "    \"\"\"\n",
    "    view = py3Dmol.view(width=800, height=600)\n",
    "    \n",
    "    # Load protein\n",
    "    view.addModel(open(protein_file).read(), \"pdb\")\n",
    "    view.setStyle({'model': -1}, {'cartoon': {'color': 'spectrum'}})\n",
    "    \n",
    "    # Load docked ligand\n",
    "    view.addModel(open(docked_poses_file).read(), \"pdbqt\")\n",
    "    view.setStyle({'model': 1}, {'stick': {'colorscheme': 'greenCarbon'}})\n",
    "    \n",
    "    # Set view options\n",
    "    view.zoomTo()\n",
    "    view.spin(True)\n",
    "    \n",
    "    return view\n",
    "\n",
    "\n",
    "def dock_and_visualize(smiles, uniprot_id):\n",
    "    \"\"\"\n",
    "    Main function to perform docking and visualization\n",
    "    \"\"\"\n",
    "    # Prepare structures\n",
    "    ligand_file = prepare_ligand(smiles)\n",
    "    protein_file = prepare_protein(uniprot_id)\n",
    "    \n",
    "    # Define docking box (this should be customized based on your protein)\n",
    "    center = [0.0, 0.0, 0.0]  # Center coordinates\n",
    "    box_size = [20, 20, 20]   # Box dimensions\n",
    "    \n",
    "    # Run docking\n",
    "    docked_poses = run_docking(protein_file, ligand_file, center, box_size)\n",
    "    \n",
    "    # Create visualization\n",
    "    view = visualize_docking(protein_file, docked_poses)\n",
    "    \n",
    "    return view"
   ]
  },
  {
   "cell_type": "code",
   "execution_count": 24,
   "metadata": {},
   "outputs": [
    {
     "name": "stderr",
     "output_type": "stream",
     "text": [
      "1 molecule converted\n"
     ]
    },
    {
     "name": "stdout",
     "output_type": "stream",
     "text": [
      "Checking in AlphaFold database:....\n"
     ]
    },
    {
     "name": "stderr",
     "output_type": "stream",
     "text": [
      "==============================\n",
      "*** Open Babel Warning  in PerceiveBondOrders\n",
      "  Failed to kekulize aromatic bonds in OBMol::PerceiveBondOrders (title is temp_prot.pdb)\n",
      "\n",
      "1 molecule converted\n"
     ]
    },
    {
     "name": "stdout",
     "output_type": "stream",
     "text": [
      "Computing Vina grid ... done.\n"
     ]
    },
    {
     "ename": "TypeError",
     "evalue": "\n\nPDBQT parsing error: Unknown or inappropriate tag found in flex residue or ligand.\n > ATOM      1  C   UNL     1       1.009  -0.897  -0.600  0.00  0.00    +0.000 C \n",
     "output_type": "error",
     "traceback": [
      "\u001b[0;31m---------------------------------------------------------------------------\u001b[0m",
      "\u001b[0;31mTypeError\u001b[0m                                 Traceback (most recent call last)",
      "Cell \u001b[0;32mIn[24], line 8\u001b[0m\n\u001b[1;32m      5\u001b[0m \u001b[38;5;66;03m# Sample UniProt ID for a protein (example: P12345)\u001b[39;00m\n\u001b[1;32m      6\u001b[0m protein_uniprot \u001b[38;5;241m=\u001b[39m \u001b[38;5;124m\"\u001b[39m\u001b[38;5;124mQ852Q0\u001b[39m\u001b[38;5;124m\"\u001b[39m  \u001b[38;5;66;03m# Replace with valid UniProt ID\u001b[39;00m\n\u001b[0;32m----> 8\u001b[0m view \u001b[38;5;241m=\u001b[39m \u001b[43mdock_and_visualize\u001b[49m\u001b[43m(\u001b[49m\u001b[43mdrug_smiles\u001b[49m\u001b[43m,\u001b[49m\u001b[43mprotein_uniprot\u001b[49m\u001b[43m)\u001b[49m\n\u001b[1;32m      9\u001b[0m view\u001b[38;5;241m.\u001b[39mshow()\n",
      "Cell \u001b[0;32mIn[23], line 35\u001b[0m, in \u001b[0;36mdock_and_visualize\u001b[0;34m(smiles, uniprot_id)\u001b[0m\n\u001b[1;32m     32\u001b[0m box_size \u001b[38;5;241m=\u001b[39m [\u001b[38;5;241m20\u001b[39m, \u001b[38;5;241m20\u001b[39m, \u001b[38;5;241m20\u001b[39m]   \u001b[38;5;66;03m# Box dimensions\u001b[39;00m\n\u001b[1;32m     34\u001b[0m \u001b[38;5;66;03m# Run docking\u001b[39;00m\n\u001b[0;32m---> 35\u001b[0m docked_poses \u001b[38;5;241m=\u001b[39m \u001b[43mrun_docking\u001b[49m\u001b[43m(\u001b[49m\u001b[43mprotein_file\u001b[49m\u001b[43m,\u001b[49m\u001b[43m \u001b[49m\u001b[43mligand_file\u001b[49m\u001b[43m,\u001b[49m\u001b[43m \u001b[49m\u001b[43mcenter\u001b[49m\u001b[43m,\u001b[49m\u001b[43m \u001b[49m\u001b[43mbox_size\u001b[49m\u001b[43m)\u001b[49m\n\u001b[1;32m     37\u001b[0m \u001b[38;5;66;03m# Create visualization\u001b[39;00m\n\u001b[1;32m     38\u001b[0m view \u001b[38;5;241m=\u001b[39m visualize_docking(protein_file, docked_poses)\n",
      "Cell \u001b[0;32mIn[22], line 14\u001b[0m, in \u001b[0;36mrun_docking\u001b[0;34m(protein_file, ligand_file, center, box_size)\u001b[0m\n\u001b[1;32m     11\u001b[0m v\u001b[38;5;241m.\u001b[39mcompute_vina_maps(center\u001b[38;5;241m=\u001b[39mcenter, box_size\u001b[38;5;241m=\u001b[39mbox_size)\n\u001b[1;32m     13\u001b[0m \u001b[38;5;66;03m# Dock ligand\u001b[39;00m\n\u001b[0;32m---> 14\u001b[0m \u001b[43mv\u001b[49m\u001b[38;5;241;43m.\u001b[39;49m\u001b[43mset_ligand_from_file\u001b[49m\u001b[43m(\u001b[49m\u001b[43mligand_file\u001b[49m\u001b[43m)\u001b[49m\n\u001b[1;32m     16\u001b[0m v\u001b[38;5;241m.\u001b[39mdock()\n\u001b[1;32m     18\u001b[0m \u001b[38;5;66;03m# Save results\u001b[39;00m\n",
      "File \u001b[0;32m~/miniconda3/envs/watson24/lib/python3.11/site-packages/vina/vina.py:182\u001b[0m, in \u001b[0;36mVina.set_ligand_from_file\u001b[0;34m(self, pdbqt_filename)\u001b[0m\n\u001b[1;32m    179\u001b[0m         \u001b[38;5;28;01mraise\u001b[39;00m \u001b[38;5;167;01mTypeError\u001b[39;00m(\u001b[38;5;124m'\u001b[39m\u001b[38;5;124mError: Vina requires a PDBQT file for the ligand.\u001b[39m\u001b[38;5;124m'\u001b[39m)\n\u001b[1;32m    181\u001b[0m \u001b[38;5;28;01mif\u001b[39;00m \u001b[38;5;28mlen\u001b[39m(pdbqt_filename) \u001b[38;5;241m==\u001b[39m \u001b[38;5;241m1\u001b[39m:\n\u001b[0;32m--> 182\u001b[0m     \u001b[38;5;28;43mself\u001b[39;49m\u001b[38;5;241;43m.\u001b[39;49m\u001b[43m_vina\u001b[49m\u001b[38;5;241;43m.\u001b[39;49m\u001b[43mset_ligand_from_file\u001b[49m\u001b[43m(\u001b[49m\u001b[43mpdbqt_filename\u001b[49m\u001b[43m[\u001b[49m\u001b[38;5;241;43m0\u001b[39;49m\u001b[43m]\u001b[49m\u001b[43m)\u001b[49m\n\u001b[1;32m    183\u001b[0m \u001b[38;5;28;01melse\u001b[39;00m:\n\u001b[1;32m    184\u001b[0m     \u001b[38;5;28mself\u001b[39m\u001b[38;5;241m.\u001b[39m_vina\u001b[38;5;241m.\u001b[39mset_ligand_from_file(pdbqt_filename)\n",
      "File \u001b[0;32m~/miniconda3/envs/watson24/lib/python3.11/site-packages/vina/vina_wrapper.py:720\u001b[0m, in \u001b[0;36mVina.set_ligand_from_file\u001b[0;34m(self, *args)\u001b[0m\n\u001b[1;32m    719\u001b[0m \u001b[38;5;28;01mdef\u001b[39;00m \u001b[38;5;21mset_ligand_from_file\u001b[39m(\u001b[38;5;28mself\u001b[39m, \u001b[38;5;241m*\u001b[39margs) \u001b[38;5;241m-\u001b[39m\u001b[38;5;241m>\u001b[39m \u001b[38;5;124m\"\u001b[39m\u001b[38;5;124mvoid\u001b[39m\u001b[38;5;124m\"\u001b[39m:\n\u001b[0;32m--> 720\u001b[0m     \u001b[38;5;28;01mreturn\u001b[39;00m \u001b[43m_vina_wrapper\u001b[49m\u001b[38;5;241;43m.\u001b[39;49m\u001b[43mVina_set_ligand_from_file\u001b[49m\u001b[43m(\u001b[49m\u001b[38;5;28;43mself\u001b[39;49m\u001b[43m,\u001b[49m\u001b[43m \u001b[49m\u001b[38;5;241;43m*\u001b[39;49m\u001b[43margs\u001b[49m\u001b[43m)\u001b[49m\n",
      "\u001b[0;31mTypeError\u001b[0m: \n\nPDBQT parsing error: Unknown or inappropriate tag found in flex residue or ligand.\n > ATOM      1  C   UNL     1       1.009  -0.897  -0.600  0.00  0.00    +0.000 C \n"
     ]
    }
   ],
   "source": [
    "# Now let's test with some sample inputs\n",
    "# Sample SMILES for a drug (Aspirin)\n",
    "drug_smiles = \"CC(=O)OC1=CC=CC=C1C(=O)O\"  # Aspirin\n",
    "\n",
    "# Sample UniProt ID for a protein (example: P12345)\n",
    "protein_uniprot = \"Q852Q0\"  # Replace with valid UniProt ID\n",
    "\n",
    "view = dock_and_visualize(drug_smiles,protein_uniprot)\n",
    "view.show()"
   ]
  }
 ],
 "metadata": {
  "kernelspec": {
   "display_name": "watson24",
   "language": "python",
   "name": "python3"
  },
  "language_info": {
   "codemirror_mode": {
    "name": "ipython",
    "version": 3
   },
   "file_extension": ".py",
   "mimetype": "text/x-python",
   "name": "python",
   "nbconvert_exporter": "python",
   "pygments_lexer": "ipython3",
   "version": "3.11.10"
  }
 },
 "nbformat": 4,
 "nbformat_minor": 2
}
